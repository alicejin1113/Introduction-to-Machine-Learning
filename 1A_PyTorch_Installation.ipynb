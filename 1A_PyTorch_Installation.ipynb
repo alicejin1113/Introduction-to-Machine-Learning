{
 "cells": [
  {
   "cell_type": "code",
   "execution_count": 3,
   "id": "5858ab2d",
   "metadata": {},
   "outputs": [
    {
     "name": "stdout",
     "output_type": "stream",
     "text": [
      "Collecting package metadata (current_repodata.json): done\n",
      "Solving environment: done\n",
      "\n",
      "\n",
      "==> WARNING: A newer version of conda exists. <==\n",
      "  current version: 4.10.1\n",
      "  latest version: 4.11.0\n",
      "\n",
      "Please update conda by running\n",
      "\n",
      "    $ conda update -n base -c defaults conda\n",
      "\n",
      "\n",
      "\n",
      "## Package Plan ##\n",
      "\n",
      "  environment location: /opt/anaconda3/envs/pytorch\n",
      "\n",
      "  added / updated specs:\n",
      "    - python=3.6\n",
      "\n",
      "\n",
      "The following packages will be downloaded:\n",
      "\n",
      "    package                    |            build\n",
      "    ---------------------------|-----------------\n",
      "    ca-certificates-2021.10.26 |       hecd8cb5_2         115 KB\n",
      "    certifi-2020.6.20          |     pyhd3eb1b0_3         155 KB\n",
      "    libcxx-12.0.0              |       h2f01273_0         805 KB\n",
      "    ncurses-6.3                |       hca72f7f_2         856 KB\n",
      "    openssl-1.1.1m             |       hca72f7f_0         2.2 MB\n",
      "    pip-21.2.2                 |   py36hecd8cb5_0         1.8 MB\n",
      "    python-3.6.13              |       h88f2d9e_0        16.8 MB\n",
      "    readline-8.1.2             |       hca72f7f_1         321 KB\n",
      "    setuptools-58.0.4          |   py36hecd8cb5_0         777 KB\n",
      "    sqlite-3.37.0              |       h707629a_0         1.2 MB\n",
      "    tk-8.6.11                  |       h7bc2e8c_0         3.0 MB\n",
      "    wheel-0.37.1               |     pyhd3eb1b0_0          33 KB\n",
      "    zlib-1.2.11                |       h4dc903c_4          96 KB\n",
      "    ------------------------------------------------------------\n",
      "                                           Total:        28.2 MB\n",
      "\n",
      "The following NEW packages will be INSTALLED:\n",
      "\n",
      "  ca-certificates    pkgs/main/osx-64::ca-certificates-2021.10.26-hecd8cb5_2\n",
      "  certifi            pkgs/main/noarch::certifi-2020.6.20-pyhd3eb1b0_3\n",
      "  libcxx             pkgs/main/osx-64::libcxx-12.0.0-h2f01273_0\n",
      "  libffi             pkgs/main/osx-64::libffi-3.3-hb1e8313_2\n",
      "  ncurses            pkgs/main/osx-64::ncurses-6.3-hca72f7f_2\n",
      "  openssl            pkgs/main/osx-64::openssl-1.1.1m-hca72f7f_0\n",
      "  pip                pkgs/main/osx-64::pip-21.2.2-py36hecd8cb5_0\n",
      "  python             pkgs/main/osx-64::python-3.6.13-h88f2d9e_0\n",
      "  readline           pkgs/main/osx-64::readline-8.1.2-hca72f7f_1\n",
      "  setuptools         pkgs/main/osx-64::setuptools-58.0.4-py36hecd8cb5_0\n",
      "  sqlite             pkgs/main/osx-64::sqlite-3.37.0-h707629a_0\n",
      "  tk                 pkgs/main/osx-64::tk-8.6.11-h7bc2e8c_0\n",
      "  wheel              pkgs/main/noarch::wheel-0.37.1-pyhd3eb1b0_0\n",
      "  xz                 pkgs/main/osx-64::xz-5.2.5-h1de35cc_0\n",
      "  zlib               pkgs/main/osx-64::zlib-1.2.11-h4dc903c_4\n",
      "\n",
      "\n",
      "\n",
      "Downloading and Extracting Packages\n",
      "zlib-1.2.11          | 96 KB     | ##################################### | 100% \n",
      "pip-21.2.2           | 1.8 MB    | ##################################### | 100% \n",
      "ncurses-6.3          | 856 KB    | ##################################### | 100% \n",
      "sqlite-3.37.0        | 1.2 MB    | ##################################### | 100% \n",
      "setuptools-58.0.4    | 777 KB    | ##################################### | 100% \n",
      "python-3.6.13        | 16.8 MB   | ##################################### | 100% \n",
      "readline-8.1.2       | 321 KB    | ##################################### | 100% \n",
      "certifi-2020.6.20    | 155 KB    | ##################################### | 100% \n",
      "wheel-0.37.1         | 33 KB     | ##################################### | 100% \n",
      "libcxx-12.0.0        | 805 KB    | ##################################### | 100% \n",
      "openssl-1.1.1m       | 2.2 MB    | ##################################### | 100% \n",
      "tk-8.6.11            | 3.0 MB    | ##################################### | 100% \n",
      "ca-certificates-2021 | 115 KB    | ##################################### | 100% \n",
      "Preparing transaction: done\n",
      "Verifying transaction: done\n",
      "Executing transaction: done\n",
      "#\n",
      "# To activate this environment, use\n",
      "#\n",
      "#     $ conda activate pytorch\n",
      "#\n",
      "# To deactivate an active environment, use\n",
      "#\n",
      "#     $ conda deactivate\n",
      "\n",
      "\n",
      "Note: you may need to restart the kernel to use updated packages.\n"
     ]
    }
   ],
   "source": [
    "conda create -n pytorch python=3.6 --yes"
   ]
  },
  {
   "cell_type": "code",
   "execution_count": 2,
   "id": "db22143b",
   "metadata": {},
   "outputs": [
    {
     "name": "stdout",
     "output_type": "stream",
     "text": [
      "\n",
      "CommandNotFoundError: Your shell has not been properly configured to use 'conda activate'.\n",
      "To initialize your shell, run\n",
      "\n",
      "    $ conda init <SHELL_NAME>\n",
      "\n",
      "Currently supported shells are:\n",
      "  - bash\n",
      "  - fish\n",
      "  - tcsh\n",
      "  - xonsh\n",
      "  - zsh\n",
      "  - powershell\n",
      "\n",
      "See 'conda init --help' for more information and options.\n",
      "\n",
      "IMPORTANT: You may need to close and restart your shell after running 'conda init'.\n",
      "\n",
      "\n",
      "\n",
      "Note: you may need to restart the kernel to use updated packages.\n"
     ]
    }
   ],
   "source": [
    "conda activate pytorch"
   ]
  },
  {
   "cell_type": "code",
   "execution_count": 1,
   "id": "86d4811e",
   "metadata": {},
   "outputs": [
    {
     "name": "stdout",
     "output_type": "stream",
     "text": [
      "\n",
      "ArgumentError: Invalid shells: \n",
      "  - pytorch\n",
      "\n",
      "Currently available shells are:\n",
      "  - bash\n",
      "  - fish\n",
      "  - powershell\n",
      "  - tcsh\n",
      "  - xonsh\n",
      "  - zsh\n",
      "\n",
      "\n",
      "Note: you may need to restart the kernel to use updated packages.\n"
     ]
    }
   ],
   "source": [
    "conda init pytorch"
   ]
  },
  {
   "cell_type": "code",
   "execution_count": 5,
   "id": "d780bdc1",
   "metadata": {},
   "outputs": [
    {
     "name": "stdout",
     "output_type": "stream",
     "text": [
      "Collecting package metadata (current_repodata.json): done\n",
      "Solving environment: done\n",
      "\n",
      "## Package Plan ##\n",
      "\n",
      "  environment location: /opt/anaconda3\n",
      "\n",
      "  added / updated specs:\n",
      "    - h5py\n",
      "    - imageio\n",
      "    - jupyter\n",
      "    - matplotlib\n",
      "    - numpy\n",
      "    - tqdm\n",
      "\n",
      "\n",
      "The following packages will be downloaded:\n",
      "\n",
      "    package                    |            build\n",
      "    ---------------------------|-----------------\n",
      "    conda-4.11.0               |   py38hecd8cb5_0        14.4 MB\n",
      "    ------------------------------------------------------------\n",
      "                                           Total:        14.4 MB\n",
      "\n",
      "The following packages will be UPDATED:\n",
      "\n",
      "  conda                               4.10.1-py38hecd8cb5_1 --> 4.11.0-py38hecd8cb5_0\n",
      "\n",
      "\n",
      "\n",
      "Downloading and Extracting Packages\n",
      "conda-4.11.0         | 14.4 MB   | ##################################### | 100% \n",
      "Preparing transaction: done\n",
      "Verifying transaction: done\n",
      "Executing transaction: done\n",
      "\n",
      "Note: you may need to restart the kernel to use updated packages.\n"
     ]
    }
   ],
   "source": [
    "conda install h5py imageio jupyter matplotlib numpy tqdm"
   ]
  },
  {
   "cell_type": "code",
   "execution_count": 6,
   "id": "70ba22d7",
   "metadata": {},
   "outputs": [
    {
     "name": "stdout",
     "output_type": "stream",
     "text": [
      "Collecting package metadata (current_repodata.json): done\n",
      "Solving environment: done\n",
      "\n",
      "## Package Plan ##\n",
      "\n",
      "  environment location: /opt/anaconda3\n",
      "\n",
      "  added / updated specs:\n",
      "    - pytorch\n",
      "    - torchvision\n",
      "\n",
      "\n",
      "The following packages will be downloaded:\n",
      "\n",
      "    package                    |            build\n",
      "    ---------------------------|-----------------\n",
      "    ninja-1.10.2               |       hf7b0b51_1         106 KB\n",
      "    pytorch-1.7.1              |          py3.8_0        64.5 MB  pytorch\n",
      "    torchvision-0.8.2          |         py38_cpu         6.5 MB  pytorch\n",
      "    ------------------------------------------------------------\n",
      "                                           Total:        71.2 MB\n",
      "\n",
      "The following NEW packages will be INSTALLED:\n",
      "\n",
      "  ninja              pkgs/main/osx-64::ninja-1.10.2-hf7b0b51_1\n",
      "  pytorch            pytorch/osx-64::pytorch-1.7.1-py3.8_0\n",
      "  torchvision        pytorch/osx-64::torchvision-0.8.2-py38_cpu\n",
      "\n",
      "\n",
      "\n",
      "Downloading and Extracting Packages\n",
      "ninja-1.10.2         | 106 KB    | ##################################### | 100% \n",
      "pytorch-1.7.1        | 64.5 MB   | ##################################### | 100% \n",
      "torchvision-0.8.2    | 6.5 MB    | ##################################### | 100% \n",
      "Preparing transaction: done\n",
      "Verifying transaction: done\n",
      "Executing transaction: done\n",
      "\n",
      "Note: you may need to restart the kernel to use updated packages.\n"
     ]
    }
   ],
   "source": [
    "conda install pytorch torchvision -c pytorch"
   ]
  },
  {
   "cell_type": "code",
   "execution_count": 3,
   "id": "227dd875",
   "metadata": {},
   "outputs": [
    {
     "name": "stdout",
     "output_type": "stream",
     "text": [
      "1.7.1\n",
      "tensor([[0.5026, 0.6594, 0.7300],\n",
      "        [0.9570, 0.7127, 0.6359]])\n"
     ]
    }
   ],
   "source": [
    " import torch\n",
    " print(torch.__version__)\n",
    " x = torch.rand(2, 3)\n",
    " print(x)"
   ]
  }
 ],
 "metadata": {
  "kernelspec": {
   "display_name": "Python 3",
   "language": "python",
   "name": "python3"
  },
  "language_info": {
   "codemirror_mode": {
    "name": "ipython",
    "version": 3
   },
   "file_extension": ".py",
   "mimetype": "text/x-python",
   "name": "python",
   "nbconvert_exporter": "python",
   "pygments_lexer": "ipython3",
   "version": "3.8.8"
  }
 },
 "nbformat": 4,
 "nbformat_minor": 5
}
